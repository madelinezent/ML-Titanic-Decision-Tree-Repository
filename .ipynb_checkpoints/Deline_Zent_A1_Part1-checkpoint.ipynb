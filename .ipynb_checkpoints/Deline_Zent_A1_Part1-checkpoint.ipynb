{
 "cells": [
  {
   "cell_type": "code",
   "execution_count": 1,
   "metadata": {},
   "outputs": [],
   "source": [
    "# Import standard libraries and libraries included in assignment description\n",
    "import numpy as np\n",
    "import os\n",
    "import pandas as pd\n",
    "import sklearn as sk\n",
    "import matplotlib as mp\n",
    "import seaborn as sb\n",
    "import statistics\n",
    "from statistics import mode, StatisticsError\n",
    "from sklearn.model_selection import train_test_split # Import train_test_split function\n",
    "from sklearn import metrics #Import scikit-learn metrics module for accuracy calculation"
   ]
  },
  {
   "cell_type": "code",
   "execution_count": 2,
   "metadata": {},
   "outputs": [],
   "source": [
    "# Question 1\n",
    "# Create an variable for every age frequency\n",
    "age_1_to_5 = 1\n",
    "age_5_to_15 = 2\n",
    "age_15_to_20 = 3\n",
    "age_20_to_50 = 4\n",
    "age_50_to_80 = 5\n",
    "age_80_to_110 = 6\n",
    "age_list = []"
   ]
  },
  {
   "cell_type": "code",
   "execution_count": 3,
   "metadata": {},
   "outputs": [],
   "source": [
    "# Append each age group to the array of individuals\n",
    "# for the corresponding frequency\n",
    "for x in range(200):\n",
    "    age_list.append(age_1_to_5)\n",
    "for x in range(450):\n",
    "    age_list.append(age_5_to_15)\n",
    "for x in range(300):\n",
    "    age_list.append(age_15_to_20)\n",
    "for x in range(1500):\n",
    "    age_list.append(age_20_to_50)\n",
    "for x in range(700):\n",
    "    age_list.append(age_50_to_80)\n",
    "for x in range(44):\n",
    "    age_list.append(age_80_to_110)"
   ]
  },
  {
   "cell_type": "code",
   "execution_count": 4,
   "metadata": {},
   "outputs": [
    {
     "name": "stdout",
     "output_type": "stream",
     "text": [
      "The median age group is: 20 to 50\n"
     ]
    }
   ],
   "source": [
    "# Use python's statistics library to find the median of the age groups. \n",
    "group_median = statistics.median(age_list)\n",
    "\n",
    "# Convert the group identifying int to a string with the result of \n",
    "# the median age group.\n",
    "result = \"\"\n",
    "if(group_median == 1): \n",
    "    result = 'The median age group is: 1 to 5'\n",
    "elif (group_median == 2):\n",
    "    result = 'The median age group is: 5 to 15'\n",
    "elif (group_median == 3):\n",
    "    result = 'The median age group is: 15 to 20'\n",
    "elif (group_median == 4):\n",
    "    result ='The median age group is: 20 to 50'\n",
    "elif (group_median == 5):\n",
    "    result = 'The median age group is: 50 to 80'\n",
    "elif (group_median == 6):\n",
    "    result = 'The median age group is: 80 to 110' \n",
    "\n",
    "print(result)"
   ]
  },
  {
   "cell_type": "code",
   "execution_count": 5,
   "metadata": {},
   "outputs": [],
   "source": [
    "# Put the result of question 1 into an output csv file.\n",
    "df = pd.DataFrame({'Median Age Group': [result]})\n",
    "df.to_csv(\"./output/Q1_answer.csv\", index=False)"
   ]
  },
  {
   "cell_type": "code",
   "execution_count": 6,
   "metadata": {},
   "outputs": [
    {
     "data": {
      "image/png": "[encoded data removed]",
      "text/plain": [
       "<Figure size 432x288 with 1 Axes>"
      ]
     },
     "metadata": {
      "needs_background": "light"
     },
     "output_type": "display_data"
    }
   ],
   "source": [
    "# Question 2\n",
    "# Create an array of the age values\n",
    "age_values = [13, 15, 16, 16, 19, 20, 20, 21, 22, 22, 25, 25, 25, 25, \n",
    "              30, 33, 33, 35, 35, 35, 35, 36, 40, 45, 46, 52, 70]\n",
    "\n",
    "# Calculate the mean and median\n",
    "age_mean = statistics.mean(age_values)\n",
    "age_median = statistics.median(age_values)\n",
    "\n",
    "# The modes most repeated values in the set can be shown in the data frame\n",
    "age_df = pd.DataFrame(age_values)\n",
    "mode_df = age_df.mode(axis = 0)\n",
    "\n",
    "# Calculate the midrange\n",
    "age_midrange = (age_values[0] + age_values[len(age_values) - 1]) / 2;\n",
    "\n",
    "# Calculate the first quartile and the third quartile\n",
    "quartile_df = age_df.quantile([0.25, 0.75], interpolation='nearest')\n",
    "first_quartile = quartile_df.iloc[0, 0]\n",
    "third_quartile = quartile_df.iloc[1, 0]\n",
    "\n",
    "# List with the five-number summary of the data\n",
    "five_num_sum = {age_values[0], first_quartile, age_median, third_quartile, age_values[len(age_values)-1]}\n",
    "\n",
    "# Show a boxplot of the data\n",
    "boxplot_df = age_df.boxplot()\n",
    "\n",
    "# The difference between a q-q plot and a q plot\n",
    "q2_g = (\"The difference between a quantile quantile plot and a quantile plot is that a \"  \n",
    "\"quantintile plot directly displays the quantiles of a set of data whereas a \" \n",
    "\"quantile quantile plot allows us to compare the quantiles of two sets of numbers.\")\n",
    "\n",
    "# Will copy and paste answers into a csv file"
   ]
  },
  {
   "cell_type": "code",
   "execution_count": 7,
   "metadata": {},
   "outputs": [
    {
     "name": "stdout",
     "output_type": "stream",
     "text": [
      "The min-max normalization to transform 35:  0.38596491228070173\n",
      "The z-score normalization to transform 35:  0.38926097658709724\n",
      "The decimal normalization to transform 35:  0.35 \n",
      "\n",
      "I think preference really depends on what you are doing to the data. Personally, if I were to graph this data, I want to see the variety of ages in our data set so I'd use min-max normalization to let me see the scale of the age group.\n"
     ]
    }
   ],
   "source": [
    "# Question 3\n",
    "\n",
    "min_max_norm = (35-13) / (70-13)\n",
    "print(\"The min-max normalization to transform 35: \", min_max_norm)\n",
    "\n",
    "z_score_norm = (35 - age_mean) / 12.94\n",
    "print(\"The z-score normalization to transform 35: \", z_score_norm)\n",
    "\n",
    "decimal_norm = (35 / 10 **2)\n",
    "print(\"The decimal normalization to transform 35: \", decimal_norm, \"\\n\")\n",
    "\n",
    "preference = (\"I think preference really depends on what you are doing to \"\n",
    "              \"the data. Personally, if I were to graph this data, I want \"\n",
    "              \"to see the variety of ages in our data set so I'd use min-max \"\n",
    "              \"normalization to let me see the scale of the age group.\")\n",
    "print(preference)"
   ]
  }
 ],
 "metadata": {
  "kernelspec": {
   "display_name": "Python 3",
   "language": "python",
   "name": "python3"
  },
  "language_info": {
   "codemirror_mode": {
    "name": "ipython",
    "version": 3
   },
   "file_extension": ".py",
   "mimetype": "text/x-python",
   "name": "python",
   "nbconvert_exporter": "python",
   "pygments_lexer": "ipython3",
   "version": "3.7.4"
  }
 },
 "nbformat": 4,
 "nbformat_minor": 2
}
